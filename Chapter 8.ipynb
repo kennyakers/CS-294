{
 "cells": [
  {
   "cell_type": "markdown",
   "metadata": {},
   "source": [
    "# Exercise 8.4 (b and c)"
   ]
  },
  {
   "cell_type": "code",
   "execution_count": 2,
   "metadata": {},
   "outputs": [],
   "source": [
    "import numpy as np\n",
    "import pandas as pd"
   ]
  },
  {
   "cell_type": "code",
   "execution_count": 27,
   "metadata": {},
   "outputs": [
    {
     "name": "stdout",
     "output_type": "stream",
     "text": [
      "108.65852264740926\n"
     ]
    }
   ],
   "source": [
    "# Algorithm 8 as described in the book\n",
    "np.random.seed(0)\n",
    "\n",
    "n = 1000\n",
    "d = 10\n",
    "X = np.random.randint(0, 2, (n, d)) # Random binary dataset\n",
    "y = np.random.randint(0, 2, (n, 1)) # Random binary labels\n",
    "\n",
    "\n",
    "def algorithm_8(data, labels):\n",
    "    thresholds = 0\n",
    "    table = [None] * len(data)\n",
    "    sorted_table = None\n",
    "    for i in range(len(data)):\n",
    "        table[i] = (np.sum(data[i]), labels[i])\n",
    "        predicted_class = 0\n",
    "\n",
    "    sorted_table = sorted(table, key=lambda x: x[0]) \n",
    "\n",
    "    for i in range(len(data)):\n",
    "        if not sorted_table[i][1] == predicted_class:\n",
    "            thresholds = thresholds + 1\n",
    "            predicted_class = sorted_table[i][1]\n",
    "\n",
    "    min_threshs = np.log2(thresholds + 1)\n",
    "    mec = (min_threshs * (len(data[0]) + 1)) + (min_threshs + 1)\n",
    "    return mec\n",
    "\n",
    "mec = algorithm_8(X, y)\n",
    "print(mec)"
   ]
  },
  {
   "cell_type": "markdown",
   "metadata": {},
   "source": [
    "### a. Expand Algorithm 8 to work with more than one binary classification."
   ]
  },
  {
   "cell_type": "code",
   "execution_count": 28,
   "metadata": {},
   "outputs": [
    {
     "name": "stdout",
     "output_type": "stream",
     "text": [
      "116.76950111745903\n"
     ]
    }
   ],
   "source": [
    "def algorithm_8_multiclass(data, labels):\n",
    "    thresholds = 0\n",
    "    table = [None] * len(data)\n",
    "    sorted_table = None\n",
    "    predicted_classes = [0] * len(data)\n",
    "    for i in range(len(data)):\n",
    "        table[i] = (np.sum(data[i]), labels[i])\n",
    "\n",
    "    sorted_table = sorted(table, key=lambda x: x[0]) \n",
    "\n",
    "    for i in range(len(data)):\n",
    "        if not sorted_table[i][1] == predicted_classes[i]:\n",
    "            thresholds = thresholds + 1\n",
    "            predicted_classes[i] = sorted_table[i][1]\n",
    "\n",
    "    min_threshs = np.log2(thresholds + 1)\n",
    "    mec = (min_threshs * (len(data[0]) + 1)) + (min_threshs + 1)\n",
    "    return mec\n",
    "\n",
    "n_classes = 5\n",
    "y = np.random.randint(0, n_classes, (n, 1))\n",
    "\n",
    "mec = algorithm_8_multiclass(X, y)\n",
    "print(mec)"
   ]
  },
  {
   "cell_type": "markdown",
   "metadata": {},
   "source": [
    "### b. Expand Algorithm 8 to work with regression"
   ]
  },
  {
   "cell_type": "code",
   "execution_count": 31,
   "metadata": {},
   "outputs": [
    {
     "name": "stdout",
     "output_type": "stream",
     "text": [
      "120.60671510603191\n"
     ]
    }
   ],
   "source": [
    "def algorithm_8_regression(data, labels):\n",
    "    thresholds = 0\n",
    "    for i in range(len(data)):\n",
    "        # The prediction will ~always be wrong since there are an infinite number of real values, so we can just increment thresholds by 1 for each row\n",
    "        thresholds += 1\n",
    "\n",
    "    min_threshs = np.log2(thresholds + 1)\n",
    "    mec = (min_threshs * (len(data[0]) + 1)) + (min_threshs + 1)\n",
    "    return mec\n",
    "\n",
    "y = np.random.randn(n, 1) \n",
    "\n",
    "mec = algorithm_8_regression(X, y)\n",
    "print(mec)"
   ]
  }
 ],
 "metadata": {
  "kernelspec": {
   "display_name": "eml_midterm",
   "language": "python",
   "name": "python3"
  },
  "language_info": {
   "codemirror_mode": {
    "name": "ipython",
    "version": 3
   },
   "file_extension": ".py",
   "mimetype": "text/x-python",
   "name": "python",
   "nbconvert_exporter": "python",
   "pygments_lexer": "ipython3",
   "version": "3.12.2"
  }
 },
 "nbformat": 4,
 "nbformat_minor": 2
}
