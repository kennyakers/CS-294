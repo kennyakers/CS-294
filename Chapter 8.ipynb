{
 "cells": [
  {
   "cell_type": "markdown",
   "metadata": {},
   "source": [
    "# Exercise 8.4 (b and c)"
   ]
  },
  {
   "cell_type": "code",
   "execution_count": null,
   "metadata": {},
   "outputs": [],
   "source": [
    "import numpy as np\n",
    "import pandas as pd"
   ]
  },
  {
   "cell_type": "code",
   "execution_count": null,
   "metadata": {},
   "outputs": [],
   "source": [
    "# Algorithm 8 as described in the book\n",
    "\n",
    "# data is a Pandas dataframe\n",
    "# labels is a Pandas series of 0s and 1s\n",
    "\n",
    "def algorithm_8(data, labels):\n",
    "    thresholds = 0\n",
    "    table = [None] * len(data)\n",
    "    sorted_table = None\n",
    "    for row in data.iterrows():\n",
    "        table[row] = (np.sum(...), labels[row])\n",
    "        sorted_table = sorted(table, key=lambda x: x[0]) # Sort by first column\n",
    "        predicted_class = 0\n",
    "\n",
    "    for row in sorted_table.iterrows():\n",
    "        if not sorted_table[row][1] == predicted_class:\n",
    "            thresholds = thresholds + 1\n",
    "            predicted_class = sorted_table[row][1]\n",
    "\n",
    "    min_threshs = np.log2(thresholds + 1)\n",
    "    mec = (min_threshs * (len(data.columns) + 1)) + (min_threshs + 1)\n",
    "    return mec\n",
    "\n",
    "        "
   ]
  },
  {
   "cell_type": "markdown",
   "metadata": {},
   "source": [
    "### a. Expand Algorithm 8 to work with more than one binary classification."
   ]
  },
  {
   "cell_type": "code",
   "execution_count": null,
   "metadata": {},
   "outputs": [],
   "source": []
  },
  {
   "cell_type": "markdown",
   "metadata": {},
   "source": [
    "### b. Expand Algorithm 8 to work with regression"
   ]
  },
  {
   "cell_type": "code",
   "execution_count": null,
   "metadata": {},
   "outputs": [],
   "source": []
  }
 ],
 "metadata": {
  "kernelspec": {
   "display_name": "eml_midterm",
   "language": "python",
   "name": "python3"
  },
  "language_info": {
   "name": "python",
   "version": "3.12.2"
  }
 },
 "nbformat": 4,
 "nbformat_minor": 2
}
